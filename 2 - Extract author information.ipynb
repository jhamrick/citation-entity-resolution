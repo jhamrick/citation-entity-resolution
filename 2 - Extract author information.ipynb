{
 "metadata": {
  "kernelspec": {
   "codemirror_mode": {
    "name": "ipython",
    "version": 3
   },
   "display_name": "IPython (Python 3)",
   "language": "python",
   "name": "python3"
  },
  "name": "",
  "signature": "sha256:fcfc6093ec538203f7ec260742a2558d7cf27bae1dd0d3883a1f43d0c6134b98"
 },
 "nbformat": 3,
 "nbformat_minor": 0,
 "worksheets": [
  {
   "cells": [
    {
     "cell_type": "markdown",
     "metadata": {},
     "source": [
      "Go through all of the citations in the `citation_data` directory, and extract from each one the list of authors. Save the authors into the `citations.h5` database."
     ]
    },
    {
     "cell_type": "code",
     "collapsed": false,
     "input": [
      "import pandas as pd\n",
      "import json\n",
      "import os\n",
      "import sys\n",
      "from unidecode import unidecode\n",
      "from IPython.display import clear_output"
     ],
     "language": "python",
     "metadata": {},
     "outputs": [],
     "prompt_number": 1
    },
    {
     "cell_type": "code",
     "collapsed": false,
     "input": [
      "# open the HDF5 database\n",
      "store = pd.HDFStore(\"citations.h5\", mode='w')\n",
      "\n",
      "for filename in sorted(os.listdir(\"citation_data\")):\n",
      "    #store_name = 'dois/{}'.format(os.path.splitext(filename)[0])\n",
      "    # skip citations that are already in the database\n",
      "    #if store_name in store:\n",
      "    #    continue\n",
      "\n",
      "    # read the citation data\n",
      "    with open(os.path.join(\"citation_data\", filename), 'r') as fh:\n",
      "        # skip citations that are malformed\n",
      "        try:\n",
      "            citation = json.load(fh)\n",
      "        except:\n",
      "            continue\n",
      "\n",
      "    # skip citations that don't have author information\n",
      "    try:\n",
      "        citation['bibliographic']['author']\n",
      "    except (TypeError, KeyError):\n",
      "        continue\n",
      "\n",
      "    # get the doi and the author information\n",
      "    doi = citation['bibliographic']['DOI']\n",
      "    df = pd.DataFrame(citation['bibliographic']['author']).dropna(how='all', axis=0)\n",
      "    df['doi'] = doi\n",
      "\n",
      "    # construct the place we will store it in the database (we need a fancy\n",
      "    # naming scheme because otherwise we have 10000 objects all under the same\n",
      "    # group -- we should take advantage of HDF5's hierarchical nature). Also\n",
      "    # we have to prefix the numbers with underscores othewise the names are not\n",
      "    # considered \"natural\" -- i.e. they are not valid python identifiers.\n",
      "    prefix = \"_\".join(doi.split(\".\")[:-1])\n",
      "    number = doi.split(\".\")[-1]\n",
      "    number_path = \"/_\".join(list(str(number))[:-2])\n",
      "    store_path = \"/dois/_{}/_{}/_{}\".format(prefix, number_path, number)\n",
      "\n",
      "    # print progress\n",
      "    clear_output()\n",
      "    print(\"Saving '{}' to '{}'\".format(filename, store_path))\n",
      "    sys.stdout.flush()\n",
      "\n",
      "    # save into the database\n",
      "    store.put(store_path, df)\n",
      "\n",
      "# close the HDF5 database\n",
      "store.close()"
     ],
     "language": "python",
     "metadata": {},
     "outputs": [
      {
       "output_type": "stream",
       "stream": "stdout",
       "text": [
        "Saving 'doi_12257.json' to '/dois/_10_1371/journal_pone/_0/_1/_1/_0/_2/_0110224'\n"
       ]
      }
     ],
     "prompt_number": 2
    },
    {
     "cell_type": "code",
     "collapsed": false,
     "input": [
      "# check the size of the database\n",
      "!ls -lh citations.h5"
     ],
     "language": "python",
     "metadata": {},
     "outputs": [
      {
       "output_type": "stream",
       "stream": "stdout",
       "text": [
        "-rw-rw-r-- 1 jhamrick jhamrick 9.8G Oct 19 13:11 citations.h5\r\n"
       ]
      }
     ],
     "prompt_number": 3
    },
    {
     "cell_type": "code",
     "collapsed": false,
     "input": [
      "# recompress the database so it's not quite so gigantic\n",
      "!ptrepack --chunkshape=auto --propindexes --complevel=9 --complib=blosc citations.h5 citations-small.h5"
     ],
     "language": "python",
     "metadata": {},
     "outputs": [],
     "prompt_number": 4
    },
    {
     "cell_type": "code",
     "collapsed": true,
     "input": [
      "# rename the compressed database\n",
      "!mv citations-small.h5 citations.h5"
     ],
     "language": "python",
     "metadata": {},
     "outputs": [],
     "prompt_number": 5
    },
    {
     "cell_type": "code",
     "collapsed": false,
     "input": [
      "# check the size of the database\n",
      "!ls -lh citations.h5"
     ],
     "language": "python",
     "metadata": {},
     "outputs": [
      {
       "output_type": "stream",
       "stream": "stdout",
       "text": [
        "-rw-rw-r-- 1 jhamrick jhamrick 120M Oct 19 13:15 citations.h5\r\n"
       ]
      }
     ],
     "prompt_number": 6
    }
   ],
   "metadata": {}
  }
 ]
}