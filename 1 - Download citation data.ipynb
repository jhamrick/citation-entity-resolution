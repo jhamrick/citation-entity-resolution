{
 "metadata": {
  "kernelspec": {
   "codemirror_mode": {
    "name": "ipython",
    "version": 2
   },
   "display_name": "IPython (Python 2)",
   "language": "python",
   "name": "python2"
  },
  "name": "",
  "signature": "sha256:92978de5145c6f88a220b41580c257fa21859fade5a05129c8df1ee9548da39a"
 },
 "nbformat": 3,
 "nbformat_minor": 0,
 "worksheets": [
  {
   "cells": [
    {
     "cell_type": "code",
     "collapsed": true,
     "input": [
      "# move files into place that we need\n",
      "!touch citation_scripts/__init__.py\n",
      "!cp citation_scripts/apidois.json ."
     ],
     "language": "python",
     "metadata": {},
     "outputs": [],
     "prompt_number": 1
    },
    {
     "cell_type": "code",
     "collapsed": false,
     "input": [
      "from citation_scripts import api_utilities\n",
      "import json\n",
      "import os\n",
      "import sys\n",
      "from IPython.display import clear_output"
     ],
     "language": "python",
     "metadata": {},
     "outputs": [],
     "prompt_number": 1
    },
    {
     "cell_type": "markdown",
     "metadata": {},
     "source": [
      "Get the list of DOIs from the provided json file:"
     ]
    },
    {
     "cell_type": "code",
     "collapsed": true,
     "input": [
      "with open(\"apidois.json\", 'r') as fh:\n",
      "    dois = sorted(json.load(fh))"
     ],
     "language": "python",
     "metadata": {},
     "outputs": [],
     "prompt_number": 2
    },
    {
     "cell_type": "markdown",
     "metadata": {},
     "source": [
      "For each DOI, use the rich citations API to download the full citation data. Save it to a JSON file in the `citation_data` folder:"
     ]
    },
    {
     "cell_type": "code",
     "collapsed": false,
     "input": [
      "for i, doi in enumerate(dois):\n",
      "    pth = \"citation_data/doi_{:05d}.json\".format(i)\n",
      "\n",
      "    # skip DOIs that we have already fetched\n",
      "    if os.path.exists(pth):\n",
      "        continue\n",
      "\n",
      "    # print out progress\n",
      "    clear_output()\n",
      "    print(\"{} --> {}\".format(doi, pth))\n",
      "    sys.stdout.flush()\n",
      "\n",
      "    # download the citation and save it\n",
      "    citation = api_utilities.citations(doi)\n",
      "    with open(pth, \"w\") as fh:\n",
      "        json.dump(citation, fh)"
     ],
     "language": "python",
     "metadata": {},
     "outputs": [],
     "prompt_number": 3
    }
   ],
   "metadata": {}
  }
 ]
}